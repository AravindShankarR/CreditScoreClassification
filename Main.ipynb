{
 "cells": [
  {
   "cell_type": "markdown",
   "metadata": {},
   "source": [
    "**CREDIT SCORE CLASSIFICATION**\n",
    "\n",
    "*NEURAL NETWORKS CAN BE USED FOR THIS CLASSIFICATION DUE TO THE NATURE OF THE DATASET*\n",
    "\n",
    "`In this we are going to use the train.csv dataset to train a neural network with 5 layers`\n",
    "\n"
   ]
  },
  {
   "cell_type": "code",
   "execution_count": 1,
   "metadata": {},
   "outputs": [],
   "source": [
    "#Import all the necessary libraries\n",
    "import pandas as pd\n",
    "import numpy as np\n",
    "import matplotlib.pyplot as plt\n",
    "import seaborn as sns\n"
   ]
  },
  {
   "cell_type": "code",
   "execution_count": 2,
   "metadata": {},
   "outputs": [],
   "source": [
    "#Import all the packages and libraries required for the Neural Network\n",
    "import tensorflow as tf\n",
    "from tensorflow import keras\n",
    "from keras import layers\n",
    "from sklearn.model_selection import train_test_split\n",
    "from sklearn.preprocessing import StandardScaler\n",
    "from sklearn.metrics import confusion_matrix, accuracy_score, classification_report\n",
    "from sklearn.preprocessing import LabelEncoder\n",
    "from keras.models import Sequential\n",
    "from keras.layers import Dense\n"
   ]
  },
  {
   "cell_type": "markdown",
   "metadata": {},
   "source": [
    "Now given the dataset, we read it and remove columns which is not used for training purposes, we remove the underscores\n",
    "from the numeric columns which will otherwise throw the `cannot convert to float error` and create a new\n",
    "`trained1.csv`\n",
    "\n",
    "\n"
   ]
  },
  {
   "cell_type": "code",
   "execution_count": 3,
   "metadata": {},
   "outputs": [
    {
     "name": "stderr",
     "output_type": "stream",
     "text": [
      "C:\\Users\\Aravind\\AppData\\Local\\Temp\\ipykernel_27576\\597966177.py:2: DtypeWarning: Columns (26) have mixed types. Specify dtype option on import or set low_memory=False.\n",
      "  data = pd.read_csv('train.csv')\n"
     ]
    }
   ],
   "source": [
    "\n",
    "#read the dataset\n",
    "data = pd.read_csv('train.csv') \n",
    "\n",
    "#dropping columns not used in training\n",
    "col_to_drop = ['ID','Customer_ID','Month','Age','Occupation','SSN','Name','Type_of_Loan']\n",
    "data.drop(col_to_drop, axis=1, inplace=True)\n",
    "\n",
    "#processing data to remove the underscore\n",
    "data = data.applymap(lambda x: str(x).replace('_', ''))\n",
    "\n",
    "#Storing the modified dataset in another csv file\n",
    "data.to_csv('trained1.csv', index=False)\n"
   ]
  },
  {
   "cell_type": "markdown",
   "metadata": {},
   "source": [
    "We read this new `trained1.csv` and convert the categorical data to numerical data as the neural networks take numeric columns as input\n",
    "\n",
    "`We use the LabelEncoder`\n"
   ]
  },
  {
   "cell_type": "code",
   "execution_count": 4,
   "metadata": {},
   "outputs": [],
   "source": [
    "\n",
    "#reading the modified dataset\n",
    "df = pd.read_csv('trained1.csv')\n",
    "\n",
    "#converting the categorical data to numerical data\n",
    "le = LabelEncoder()\n",
    "df['Credit_History_Age'] = le.fit_transform(df['Credit_History_Age'])\n",
    "df['Payment_of_Min_Amount'] = le.fit_transform(df['Payment_of_Min_Amount'])\n",
    "df['Payment_Behaviour'] = le.fit_transform(df['Payment_Behaviour'])\n",
    "df['Credit_Score'] = le.fit_transform(df['Credit_Score'])\n",
    "df['Credit_Mix'] = le.fit_transform(df['Credit_Mix'])\n",
    "\n"
   ]
  },
  {
   "cell_type": "markdown",
   "metadata": {},
   "source": [
    "We fill the columns that have missing values, with the mean of each column using `fillna()` as these rows will have an effect on accuracy\n",
    "\n",
    "We create a new `trained2.csv` and this will be the csv we use as final"
   ]
  },
  {
   "cell_type": "code",
   "execution_count": 5,
   "metadata": {},
   "outputs": [
    {
     "name": "stdout",
     "output_type": "stream",
     "text": [
      "Annual_Income               float64\n",
      "Monthly_Inhand_Salary       float64\n",
      "Num_Bank_Accounts             int64\n",
      "Num_Credit_Card               int64\n",
      "Interest_Rate                 int64\n",
      "Num_of_Loan                   int64\n",
      "Delay_from_due_date           int64\n",
      "Num_of_Delayed_Payment      float64\n",
      "Changed_Credit_Limit        float64\n",
      "Num_Credit_Inquiries        float64\n",
      "Credit_Mix                    int64\n",
      "Outstanding_Debt            float64\n",
      "Credit_Utilization_Ratio    float64\n",
      "Credit_History_Age            int64\n",
      "Payment_of_Min_Amount         int64\n",
      "Total_EMI_per_month         float64\n",
      "Amount_invested_monthly     float64\n",
      "Payment_Behaviour             int64\n",
      "Monthly_Balance             float64\n",
      "Credit_Score                  int64\n",
      "dtype: object\n"
     ]
    }
   ],
   "source": [
    "\n",
    "#Fill the missing values with the best suitable value\n",
    "df['Credit_History_Age'].fillna(df['Credit_History_Age'].mode()[0], inplace=True)\n",
    "df['Payment_of_Min_Amount'].fillna(df['Payment_of_Min_Amount'].mode()[0], inplace=True)\n",
    "df['Payment_Behaviour'].fillna(df['Payment_Behaviour'].mode()[0], inplace=True)\n",
    "df['Credit_Score'].fillna(df['Credit_Score'].mode()[0], inplace=True)\n",
    "df['Credit_Mix'].fillna(df['Credit_Mix'].mode()[0], inplace=True)\n",
    "\n",
    "\n",
    "df.to_csv('trained2.csv', index=False)\n",
    "\n",
    "#reading the modified dataset\n",
    "df = pd.read_csv('trained2.csv')\n",
    "\n",
    "\n",
    "print(df.dtypes)  #checking the datatypes of the columns to see if the data is converted to numerical data\n",
    "\n",
    "\n"
   ]
  },
  {
   "cell_type": "markdown",
   "metadata": {},
   "source": [
    "**Next is splitting the data set into train and test**\n",
    "Here we use a 75:25 ratio\n",
    "\n",
    "\n",
    "LabelEncoder is used to transform the `y_train` and `y_test` \n",
    "\n",
    "StandardScaler can be used to prevent overfitting of data and scale it approptiately"
   ]
  },
  {
   "cell_type": "code",
   "execution_count": 9,
   "metadata": {},
   "outputs": [
    {
     "name": "stdout",
     "output_type": "stream",
     "text": [
      "Label counts:\n",
      "Credit_Score\n",
      "2    53174\n",
      "1    28998\n",
      "0    17828\n",
      "Name: count, dtype: int64\n"
     ]
    },
    {
     "data": {
      "image/png": "[encoded data removed]",
      "text/plain": [
       "<Figure size 800x600 with 1 Axes>"
      ]
     },
     "metadata": {},
     "output_type": "display_data"
    },
    {
     "name": "stdout",
     "output_type": "stream",
     "text": [
      "Labels counts in y_train: [39806 39953 39882]\n",
      "Unique counts in y_train: [0 1 2]\n",
      "Labels counts in y_test: [13368 13221 13292]\n",
      "Unique labels in y_test: [0 1 2]\n"
     ]
    }
   ],
   "source": [
    "from imblearn.over_sampling import RandomOverSampler\n",
    "\n",
    "X = df.drop('Credit_Score', axis=1)\n",
    "y = df['Credit_Score']\n",
    "\n",
    "oversampler = RandomOverSampler(sampling_strategy='not majority')\n",
    "X, y = oversampler.fit_resample(X, y)\n",
    "X_train, X_test, y_train, y_test = train_test_split(X, y, test_size=0.25, random_state=42)\n",
    "\n",
    "\n",
    "\n",
    "\n",
    "le = LabelEncoder()\n",
    "y_train = le.fit_transform(y_train)\n",
    "y_test = le.transform(y_test)\n",
    "\n",
    "#use a good scaler to scale the data\n",
    "sc = StandardScaler()\n",
    "X_train_scaled = sc.fit_transform(X_train)\n",
    "X_test = sc.transform(X_test)\n",
    "\n",
    "\n",
    "target_column = 'Credit_Score'\n",
    "label_counts = df[target_column].value_counts()\n",
    "print(\"Label counts:\")\n",
    "print(label_counts)\n",
    "\n",
    "#plot the graph to show the distribution of the data\n",
    "plt.figure(figsize=(8, 6))\n",
    "sns.countplot(x=target_column, data=df)\n",
    "plt.show()\n",
    "\n",
    "\n",
    "\n",
    "print('Labels counts in y_train:', np.bincount(y_train))\n",
    "print('Unique counts in y_train:', np.unique(y_train))\n",
    "\n",
    "print('Labels counts in y_test:', np.bincount(y_test))\n",
    "print('Unique labels in y_test:', np.unique(y_test))\n"
   ]
  },
  {
   "cell_type": "markdown",
   "metadata": {},
   "source": [
    "**The most important part  -- Building the model**\n",
    "\n",
    "We set random.seed as 42 to prevent fluctuatng accuracy values\n",
    "We use Layers.Dense to create a neural network of 5 layers where:\n",
    "1. First layer which is the input layer consists of 128 neurons with input dimension of 19\n",
    "2. Three hidden layers with the `ReLU activation function` \n",
    "3. Final output layer with 3 neurons for 3 labels in the `Credit_Score` - `Good`, `Standard`, `Bad` with the `softmax` activation function\n",
    "\n",
    "\n",
    "Next we compile the process using\n",
    "`Optimizer` = `adam`\n",
    "`loss` = `sparse_categorical_crosentropy`\n",
    "`metrics` = `accuracy`\n",
    "\n",
    "\n",
    "**Finally we fit the model**\n",
    "\n",
    "`Setting a higher epoch value may result in a slightly increased accuracy`\n",
    "\n",
    "\n"
   ]
  },
  {
   "cell_type": "code",
   "execution_count": 10,
   "metadata": {},
   "outputs": [
    {
     "name": "stdout",
     "output_type": "stream",
     "text": [
      "Epoch 1/100\n",
      "702/702 [==============================] - 1s 1ms/step - loss: nan - accuracy: 0.3318 - val_loss: nan - val_accuracy: 0.3354\n",
      "Epoch 2/100\n",
      "702/702 [==============================] - 1s 1ms/step - loss: nan - accuracy: 0.3318 - val_loss: nan - val_accuracy: 0.3354\n",
      "Epoch 3/100\n",
      "702/702 [==============================] - 1s 1ms/step - loss: nan - accuracy: 0.3318 - val_loss: nan - val_accuracy: 0.3354\n",
      "Epoch 4/100\n",
      "702/702 [==============================] - 1s 1ms/step - loss: nan - accuracy: 0.3318 - val_loss: nan - val_accuracy: 0.3354\n",
      "Epoch 5/100\n",
      "702/702 [==============================] - 1s 1ms/step - loss: nan - accuracy: 0.3318 - val_loss: nan - val_accuracy: 0.3354\n",
      "Epoch 6/100\n",
      "702/702 [==============================] - 1s 1ms/step - loss: nan - accuracy: 0.3318 - val_loss: nan - val_accuracy: 0.3354\n",
      "Epoch 7/100\n",
      "702/702 [==============================] - 1s 1ms/step - loss: nan - accuracy: 0.3318 - val_loss: nan - val_accuracy: 0.3354\n",
      "Epoch 8/100\n",
      "702/702 [==============================] - 1s 1ms/step - loss: nan - accuracy: 0.3318 - val_loss: nan - val_accuracy: 0.3354\n",
      "Epoch 9/100\n",
      "702/702 [==============================] - 1s 1ms/step - loss: nan - accuracy: 0.3318 - val_loss: nan - val_accuracy: 0.3354\n",
      "Epoch 10/100\n",
      "702/702 [==============================] - 1s 1ms/step - loss: nan - accuracy: 0.3318 - val_loss: nan - val_accuracy: 0.3354\n",
      "Epoch 11/100\n",
      "702/702 [==============================] - 1s 1ms/step - loss: nan - accuracy: 0.3318 - val_loss: nan - val_accuracy: 0.3354\n",
      "Epoch 12/100\n",
      "702/702 [==============================] - 1s 1ms/step - loss: nan - accuracy: 0.3318 - val_loss: nan - val_accuracy: 0.3354\n",
      "Epoch 13/100\n",
      "702/702 [==============================] - 1s 1ms/step - loss: nan - accuracy: 0.3318 - val_loss: nan - val_accuracy: 0.3354\n",
      "Epoch 14/100\n",
      "702/702 [==============================] - 1s 1ms/step - loss: nan - accuracy: 0.3318 - val_loss: nan - val_accuracy: 0.3354\n",
      "Epoch 15/100\n",
      "702/702 [==============================] - 1s 1ms/step - loss: nan - accuracy: 0.3318 - val_loss: nan - val_accuracy: 0.3354\n",
      "Epoch 16/100\n",
      "702/702 [==============================] - 1s 1ms/step - loss: nan - accuracy: 0.3318 - val_loss: nan - val_accuracy: 0.3354\n",
      "Epoch 17/100\n",
      "702/702 [==============================] - 1s 1ms/step - loss: nan - accuracy: 0.3318 - val_loss: nan - val_accuracy: 0.3354\n",
      "Epoch 18/100\n",
      "702/702 [==============================] - 1s 1ms/step - loss: nan - accuracy: 0.3318 - val_loss: nan - val_accuracy: 0.3354\n",
      "Epoch 19/100\n",
      "702/702 [==============================] - 1s 1ms/step - loss: nan - accuracy: 0.3318 - val_loss: nan - val_accuracy: 0.3354\n",
      "Epoch 20/100\n",
      "702/702 [==============================] - 1s 1ms/step - loss: nan - accuracy: 0.3318 - val_loss: nan - val_accuracy: 0.3354\n",
      "Epoch 21/100\n",
      "702/702 [==============================] - 1s 1ms/step - loss: nan - accuracy: 0.3318 - val_loss: nan - val_accuracy: 0.3354\n",
      "Epoch 22/100\n",
      "702/702 [==============================] - 1s 1ms/step - loss: nan - accuracy: 0.3318 - val_loss: nan - val_accuracy: 0.3354\n",
      "Epoch 23/100\n",
      "702/702 [==============================] - 1s 1ms/step - loss: nan - accuracy: 0.3318 - val_loss: nan - val_accuracy: 0.3354\n",
      "Epoch 24/100\n",
      "702/702 [==============================] - 1s 1ms/step - loss: nan - accuracy: 0.3318 - val_loss: nan - val_accuracy: 0.3354\n",
      "Epoch 25/100\n",
      "702/702 [==============================] - 1s 987us/step - loss: nan - accuracy: 0.3318 - val_loss: nan - val_accuracy: 0.3354\n",
      "Epoch 26/100\n",
      "702/702 [==============================] - 1s 1ms/step - loss: nan - accuracy: 0.3318 - val_loss: nan - val_accuracy: 0.3354\n",
      "Epoch 27/100\n",
      "702/702 [==============================] - 1s 1ms/step - loss: nan - accuracy: 0.3318 - val_loss: nan - val_accuracy: 0.3354\n",
      "Epoch 28/100\n",
      "702/702 [==============================] - 1s 1ms/step - loss: nan - accuracy: 0.3318 - val_loss: nan - val_accuracy: 0.3354\n",
      "Epoch 29/100\n",
      "702/702 [==============================] - 1s 1ms/step - loss: nan - accuracy: 0.3318 - val_loss: nan - val_accuracy: 0.3354\n",
      "Epoch 30/100\n",
      "702/702 [==============================] - 1s 1ms/step - loss: nan - accuracy: 0.3318 - val_loss: nan - val_accuracy: 0.3354\n",
      "Epoch 31/100\n",
      "702/702 [==============================] - 1s 1ms/step - loss: nan - accuracy: 0.3318 - val_loss: nan - val_accuracy: 0.3354\n",
      "Epoch 32/100\n",
      "702/702 [==============================] - 1s 1ms/step - loss: nan - accuracy: 0.3318 - val_loss: nan - val_accuracy: 0.3354\n",
      "Epoch 33/100\n",
      "702/702 [==============================] - 1s 1ms/step - loss: nan - accuracy: 0.3318 - val_loss: nan - val_accuracy: 0.3354\n",
      "Epoch 34/100\n",
      "702/702 [==============================] - 1s 1ms/step - loss: nan - accuracy: 0.3318 - val_loss: nan - val_accuracy: 0.3354\n",
      "Epoch 35/100\n",
      "702/702 [==============================] - 1s 1ms/step - loss: nan - accuracy: 0.3318 - val_loss: nan - val_accuracy: 0.3354\n",
      "Epoch 36/100\n",
      "702/702 [==============================] - 1s 1ms/step - loss: nan - accuracy: 0.3318 - val_loss: nan - val_accuracy: 0.3354\n",
      "Epoch 37/100\n",
      "702/702 [==============================] - 1s 1ms/step - loss: nan - accuracy: 0.3318 - val_loss: nan - val_accuracy: 0.3354\n",
      "Epoch 38/100\n",
      "702/702 [==============================] - 1s 998us/step - loss: nan - accuracy: 0.3318 - val_loss: nan - val_accuracy: 0.3354\n",
      "Epoch 39/100\n",
      "702/702 [==============================] - 1s 993us/step - loss: nan - accuracy: 0.3318 - val_loss: nan - val_accuracy: 0.3354\n",
      "Epoch 40/100\n",
      "702/702 [==============================] - 1s 995us/step - loss: nan - accuracy: 0.3318 - val_loss: nan - val_accuracy: 0.3354\n",
      "Epoch 41/100\n",
      "702/702 [==============================] - 1s 1ms/step - loss: nan - accuracy: 0.3318 - val_loss: nan - val_accuracy: 0.3354\n",
      "Epoch 42/100\n",
      "702/702 [==============================] - 1s 997us/step - loss: nan - accuracy: 0.3318 - val_loss: nan - val_accuracy: 0.3354\n",
      "Epoch 43/100\n",
      "702/702 [==============================] - 1s 1ms/step - loss: nan - accuracy: 0.3318 - val_loss: nan - val_accuracy: 0.3354\n",
      "Epoch 44/100\n",
      "702/702 [==============================] - 1s 1ms/step - loss: nan - accuracy: 0.3318 - val_loss: nan - val_accuracy: 0.3354\n",
      "Epoch 45/100\n",
      "702/702 [==============================] - 1s 1ms/step - loss: nan - accuracy: 0.3318 - val_loss: nan - val_accuracy: 0.3354\n",
      "Epoch 46/100\n",
      "702/702 [==============================] - 1s 1ms/step - loss: nan - accuracy: 0.3318 - val_loss: nan - val_accuracy: 0.3354\n",
      "Epoch 47/100\n",
      "702/702 [==============================] - 1s 999us/step - loss: nan - accuracy: 0.3318 - val_loss: nan - val_accuracy: 0.3354\n",
      "Epoch 48/100\n",
      "702/702 [==============================] - 1s 1ms/step - loss: nan - accuracy: 0.3318 - val_loss: nan - val_accuracy: 0.3354\n",
      "Epoch 49/100\n",
      "702/702 [==============================] - 1s 1ms/step - loss: nan - accuracy: 0.3318 - val_loss: nan - val_accuracy: 0.3354\n",
      "Epoch 50/100\n",
      "702/702 [==============================] - 1s 1ms/step - loss: nan - accuracy: 0.3318 - val_loss: nan - val_accuracy: 0.3354\n",
      "Epoch 51/100\n",
      "702/702 [==============================] - 1s 996us/step - loss: nan - accuracy: 0.3318 - val_loss: nan - val_accuracy: 0.3354\n",
      "Epoch 52/100\n",
      "702/702 [==============================] - 1s 998us/step - loss: nan - accuracy: 0.3318 - val_loss: nan - val_accuracy: 0.3354\n",
      "Epoch 53/100\n",
      "702/702 [==============================] - 1s 996us/step - loss: nan - accuracy: 0.3318 - val_loss: nan - val_accuracy: 0.3354\n",
      "Epoch 54/100\n",
      "702/702 [==============================] - 1s 1ms/step - loss: nan - accuracy: 0.3318 - val_loss: nan - val_accuracy: 0.3354\n",
      "Epoch 55/100\n",
      "702/702 [==============================] - 1s 1ms/step - loss: nan - accuracy: 0.3318 - val_loss: nan - val_accuracy: 0.3354\n",
      "Epoch 56/100\n",
      "702/702 [==============================] - 1s 1ms/step - loss: nan - accuracy: 0.3318 - val_loss: nan - val_accuracy: 0.3354\n",
      "Epoch 57/100\n",
      "702/702 [==============================] - 1s 1ms/step - loss: nan - accuracy: 0.3318 - val_loss: nan - val_accuracy: 0.3354\n",
      "Epoch 58/100\n",
      "702/702 [==============================] - 1s 1ms/step - loss: nan - accuracy: 0.3318 - val_loss: nan - val_accuracy: 0.3354\n",
      "Epoch 59/100\n",
      "702/702 [==============================] - 1s 1ms/step - loss: nan - accuracy: 0.3318 - val_loss: nan - val_accuracy: 0.3354\n",
      "Epoch 60/100\n",
      "702/702 [==============================] - 1s 1ms/step - loss: nan - accuracy: 0.3318 - val_loss: nan - val_accuracy: 0.3354\n",
      "Epoch 61/100\n",
      "702/702 [==============================] - 1s 985us/step - loss: nan - accuracy: 0.3318 - val_loss: nan - val_accuracy: 0.3354\n",
      "Epoch 62/100\n",
      "702/702 [==============================] - 1s 989us/step - loss: nan - accuracy: 0.3318 - val_loss: nan - val_accuracy: 0.3354\n",
      "Epoch 63/100\n",
      "702/702 [==============================] - 1s 984us/step - loss: nan - accuracy: 0.3318 - val_loss: nan - val_accuracy: 0.3354\n",
      "Epoch 64/100\n",
      "702/702 [==============================] - 1s 999us/step - loss: nan - accuracy: 0.3318 - val_loss: nan - val_accuracy: 0.3354\n",
      "Epoch 65/100\n",
      "702/702 [==============================] - 1s 1ms/step - loss: nan - accuracy: 0.3318 - val_loss: nan - val_accuracy: 0.3354\n",
      "Epoch 66/100\n",
      "702/702 [==============================] - 1s 1ms/step - loss: nan - accuracy: 0.3318 - val_loss: nan - val_accuracy: 0.3354\n",
      "Epoch 67/100\n",
      "702/702 [==============================] - 1s 986us/step - loss: nan - accuracy: 0.3318 - val_loss: nan - val_accuracy: 0.3354\n",
      "Epoch 68/100\n",
      "702/702 [==============================] - 1s 980us/step - loss: nan - accuracy: 0.3318 - val_loss: nan - val_accuracy: 0.3354\n",
      "Epoch 69/100\n",
      "702/702 [==============================] - 1s 983us/step - loss: nan - accuracy: 0.3318 - val_loss: nan - val_accuracy: 0.3354\n",
      "Epoch 70/100\n",
      "702/702 [==============================] - 1s 964us/step - loss: nan - accuracy: 0.3318 - val_loss: nan - val_accuracy: 0.3354\n",
      "Epoch 71/100\n",
      "702/702 [==============================] - 1s 972us/step - loss: nan - accuracy: 0.3318 - val_loss: nan - val_accuracy: 0.3354\n",
      "Epoch 72/100\n",
      "702/702 [==============================] - 1s 969us/step - loss: nan - accuracy: 0.3318 - val_loss: nan - val_accuracy: 0.3354\n",
      "Epoch 73/100\n",
      "702/702 [==============================] - 1s 984us/step - loss: nan - accuracy: 0.3318 - val_loss: nan - val_accuracy: 0.3354\n",
      "Epoch 74/100\n",
      "702/702 [==============================] - 1s 968us/step - loss: nan - accuracy: 0.3318 - val_loss: nan - val_accuracy: 0.3354\n",
      "Epoch 75/100\n",
      "702/702 [==============================] - 1s 970us/step - loss: nan - accuracy: 0.3318 - val_loss: nan - val_accuracy: 0.3354\n",
      "Epoch 76/100\n",
      "702/702 [==============================] - 1s 993us/step - loss: nan - accuracy: 0.3318 - val_loss: nan - val_accuracy: 0.3354\n",
      "Epoch 77/100\n",
      "702/702 [==============================] - 1s 982us/step - loss: nan - accuracy: 0.3318 - val_loss: nan - val_accuracy: 0.3354\n",
      "Epoch 78/100\n",
      "702/702 [==============================] - 1s 974us/step - loss: nan - accuracy: 0.3318 - val_loss: nan - val_accuracy: 0.3354\n",
      "Epoch 79/100\n",
      "702/702 [==============================] - 1s 943us/step - loss: nan - accuracy: 0.3318 - val_loss: nan - val_accuracy: 0.3354\n",
      "Epoch 80/100\n",
      "702/702 [==============================] - 1s 926us/step - loss: nan - accuracy: 0.3318 - val_loss: nan - val_accuracy: 0.3354\n",
      "Epoch 81/100\n",
      "702/702 [==============================] - 1s 917us/step - loss: nan - accuracy: 0.3318 - val_loss: nan - val_accuracy: 0.3354\n",
      "Epoch 82/100\n",
      "702/702 [==============================] - 1s 950us/step - loss: nan - accuracy: 0.3318 - val_loss: nan - val_accuracy: 0.3354\n",
      "Epoch 83/100\n",
      "702/702 [==============================] - 1s 986us/step - loss: nan - accuracy: 0.3318 - val_loss: nan - val_accuracy: 0.3354\n",
      "Epoch 84/100\n",
      "702/702 [==============================] - 1s 1ms/step - loss: nan - accuracy: 0.3318 - val_loss: nan - val_accuracy: 0.3354\n",
      "Epoch 85/100\n",
      "702/702 [==============================] - 1s 1ms/step - loss: nan - accuracy: 0.3318 - val_loss: nan - val_accuracy: 0.3354\n",
      "Epoch 86/100\n",
      "702/702 [==============================] - 1s 1ms/step - loss: nan - accuracy: 0.3318 - val_loss: nan - val_accuracy: 0.3354\n",
      "Epoch 87/100\n",
      "702/702 [==============================] - 1s 1ms/step - loss: nan - accuracy: 0.3318 - val_loss: nan - val_accuracy: 0.3354\n",
      "Epoch 88/100\n",
      "702/702 [==============================] - 1s 1ms/step - loss: nan - accuracy: 0.3318 - val_loss: nan - val_accuracy: 0.3354\n",
      "Epoch 89/100\n",
      "702/702 [==============================] - 1s 1ms/step - loss: nan - accuracy: 0.3318 - val_loss: nan - val_accuracy: 0.3354\n",
      "Epoch 90/100\n",
      "702/702 [==============================] - 1s 1ms/step - loss: nan - accuracy: 0.3318 - val_loss: nan - val_accuracy: 0.3354\n",
      "Epoch 91/100\n",
      "702/702 [==============================] - 1s 1ms/step - loss: nan - accuracy: 0.3318 - val_loss: nan - val_accuracy: 0.3354\n",
      "Epoch 92/100\n",
      "702/702 [==============================] - 1s 1ms/step - loss: nan - accuracy: 0.3318 - val_loss: nan - val_accuracy: 0.3354\n",
      "Epoch 93/100\n",
      "702/702 [==============================] - 1s 1ms/step - loss: nan - accuracy: 0.3318 - val_loss: nan - val_accuracy: 0.3354\n",
      "Epoch 94/100\n",
      "702/702 [==============================] - 1s 986us/step - loss: nan - accuracy: 0.3318 - val_loss: nan - val_accuracy: 0.3354\n",
      "Epoch 95/100\n",
      "702/702 [==============================] - 1s 1ms/step - loss: nan - accuracy: 0.3318 - val_loss: nan - val_accuracy: 0.3354\n",
      "Epoch 96/100\n",
      "702/702 [==============================] - 1s 1ms/step - loss: nan - accuracy: 0.3318 - val_loss: nan - val_accuracy: 0.3354\n",
      "Epoch 97/100\n",
      "702/702 [==============================] - 1s 1ms/step - loss: nan - accuracy: 0.3318 - val_loss: nan - val_accuracy: 0.3354\n",
      "Epoch 98/100\n",
      "702/702 [==============================] - 1s 1ms/step - loss: nan - accuracy: 0.3318 - val_loss: nan - val_accuracy: 0.3354\n",
      "Epoch 99/100\n",
      "702/702 [==============================] - 1s 1ms/step - loss: nan - accuracy: 0.3318 - val_loss: nan - val_accuracy: 0.3354\n",
      "Epoch 100/100\n",
      "702/702 [==============================] - 1s 979us/step - loss: nan - accuracy: 0.3318 - val_loss: nan - val_accuracy: 0.3354\n"
     ]
    }
   ],
   "source": [
    "\n",
    "np.random.seed(42)\n",
    "tf.random.set_seed(42)\n",
    "\n",
    "#train a neural network model for this dataset\n",
    "model = tf.keras.Sequential([\n",
    "    layers.Dense(128, activation='relu', input_dim=19),\n",
    "    layers.Dense(32, activation='relu'),\n",
    "    layers.Dense(16, activation='relu'),\n",
    "    layers.Dense(8, activation='relu'),\n",
    "    layers.Dense(3, activation='softmax')\n",
    "])\n",
    "\n",
    "\n",
    "model.compile(optimizer='adam', loss='sparse_categorical_crossentropy', metrics=['accuracy'])\n",
    "\n",
    "\n",
    "history = model.fit(X_train_scaled, y_train, epochs=100, batch_size = 128,validation_split=0.25)\n"
   ]
  },
  {
   "cell_type": "markdown",
   "metadata": {},
   "source": [
    "First we plot the accuracy and the loss curves with epochs as X label"
   ]
  },
  {
   "cell_type": "code",
   "execution_count": 11,
   "metadata": {},
   "outputs": [
    {
     "data": {
      "image/png": "[encoded data removed]",
      "text/plain": [
       "<Figure size 800x500 with 1 Axes>"
      ]
     },
     "metadata": {},
     "output_type": "display_data"
    },
    {
     "data": {
      "image/png": "[encoded data removed]",
      "text/plain": [
       "<Figure size 640x480 with 1 Axes>"
      ]
     },
     "metadata": {},
     "output_type": "display_data"
    },
    {
     "data": {
      "image/png": "[encoded data removed]",
      "text/plain": [
       "<Figure size 640x480 with 1 Axes>"
      ]
     },
     "metadata": {},
     "output_type": "display_data"
    }
   ],
   "source": [
    "\n",
    "#plot the loss and accuracy curves\n",
    "pd.DataFrame(history.history).plot(figsize=(8, 5))\n",
    "plt.grid(True)\n",
    "plt.gca().set_ylim(0, 1)\n",
    "\n",
    "plt.show()\n",
    "\n",
    "\n",
    "\n",
    "#plot loss vs epochs graph\n",
    "plt.plot(history.history['loss'])\n",
    "plt.plot(history.history['val_loss'])\n",
    "plt.title('Loss vs Epochs')\n",
    "plt.ylabel('Loss')\n",
    "plt.xlabel('Epochs')\n",
    "plt.legend(['train', 'validation'], loc='upper right')\n",
    "plt.show()\n",
    "\n",
    "\n",
    "#plot accuracy vs epochs graph\n",
    "plt.plot(history.history['accuracy'])\n",
    "plt.plot(history.history['val_accuracy'])\n",
    "plt.title('Accuracy vs Epochs')\n",
    "plt.ylabel('Accuracy')\n",
    "plt.xlabel('Epochs')\n",
    "plt.legend(['train', 'validation'], loc='upper right')\n",
    "plt.show()\n",
    "\n"
   ]
  },
  {
   "cell_type": "markdown",
   "metadata": {},
   "source": [
    "Next is the evaluation of the model \n",
    "\n",
    "We can use `evaluate` function\n",
    "We use the `predict` function to test the model and analyse its performance using \n",
    "`confusion matrix` , `classification report` , `accuracy_score`\n"
   ]
  },
  {
   "cell_type": "code",
   "execution_count": 12,
   "metadata": {},
   "outputs": [
    {
     "name": "stdout",
     "output_type": "stream",
     "text": [
      "1247/1247 [==============================] - 1s 574us/step - loss: nan - accuracy: 0.3352\n",
      "Loss: nan\n",
      "Accuracy =  [0.33519721031188965]\n",
      "1247/1247 [==============================] - 1s 529us/step\n",
      "[[13368     0     0]\n",
      " [13221     0     0]\n",
      " [13292     0     0]]\n",
      "              precision    recall  f1-score   support\n",
      "\n",
      "           0       0.34      1.00      0.50     13368\n",
      "           1       0.00      0.00      0.00     13221\n",
      "           2       0.00      0.00      0.00     13292\n",
      "\n",
      "    accuracy                           0.34     39881\n",
      "   macro avg       0.11      0.33      0.17     39881\n",
      "weighted avg       0.11      0.34      0.17     39881\n",
      "\n",
      "Accuracy: 33.52%\n"
     ]
    },
    {
     "name": "stderr",
     "output_type": "stream",
     "text": [
      "c:\\Users\\Aravind\\AppData\\Local\\Programs\\Python\\Python311\\Lib\\site-packages\\sklearn\\metrics\\_classification.py:1344: UndefinedMetricWarning: Precision and F-score are ill-defined and being set to 0.0 in labels with no predicted samples. Use `zero_division` parameter to control this behavior.\n",
      "  _warn_prf(average, modifier, msg_start, len(result))\n",
      "c:\\Users\\Aravind\\AppData\\Local\\Programs\\Python\\Python311\\Lib\\site-packages\\sklearn\\metrics\\_classification.py:1344: UndefinedMetricWarning: Precision and F-score are ill-defined and being set to 0.0 in labels with no predicted samples. Use `zero_division` parameter to control this behavior.\n",
      "  _warn_prf(average, modifier, msg_start, len(result))\n",
      "c:\\Users\\Aravind\\AppData\\Local\\Programs\\Python\\Python311\\Lib\\site-packages\\sklearn\\metrics\\_classification.py:1344: UndefinedMetricWarning: Precision and F-score are ill-defined and being set to 0.0 in labels with no predicted samples. Use `zero_division` parameter to control this behavior.\n",
      "  _warn_prf(average, modifier, msg_start, len(result))\n"
     ]
    }
   ],
   "source": [
    "\n",
    "#evaluate the model\n",
    "results = model.evaluate(X_test, y_test)\n",
    "\n",
    "print(\"Loss:\", results[0])\n",
    "print(\"Accuracy = \", results[1:])\n",
    "\n",
    "#predict the model\n",
    "y_pred = model.predict(X_test)\n",
    "y_pred = np.argmax(y_pred, axis=1)\n",
    "\n",
    "#confusion matrix\n",
    "cm = confusion_matrix(y_test, y_pred)\n",
    "print(cm)\n",
    "\n",
    "#classification report\n",
    "print(classification_report(y_test, y_pred))\n",
    "\n",
    "#print the accuracy score\n",
    "accuracy = accuracy_score(y_test, y_pred)\n",
    "print(\"Accuracy: %.2f%%\" % (accuracy * 100.0))\n"
   ]
  },
  {
   "cell_type": "code",
   "execution_count": 13,
   "metadata": {},
   "outputs": [
    {
     "name": "stdout",
     "output_type": "stream",
     "text": [
      "Epoch 1/10\n"
     ]
    },
    {
     "ename": "ValueError",
     "evalue": "in user code:\n\n    File \"c:\\Users\\Aravind\\AppData\\Local\\Programs\\Python\\Python311\\Lib\\site-packages\\keras\\engine\\training.py\", line 1284, in train_function  *\n        return step_function(self, iterator)\n    File \"c:\\Users\\Aravind\\AppData\\Local\\Programs\\Python\\Python311\\Lib\\site-packages\\keras\\engine\\training.py\", line 1268, in step_function  **\n        outputs = model.distribute_strategy.run(run_step, args=(data,))\n    File \"c:\\Users\\Aravind\\AppData\\Local\\Programs\\Python\\Python311\\Lib\\site-packages\\keras\\engine\\training.py\", line 1249, in run_step  **\n        outputs = model.train_step(data)\n    File \"c:\\Users\\Aravind\\AppData\\Local\\Programs\\Python\\Python311\\Lib\\site-packages\\keras\\engine\\training.py\", line 1051, in train_step\n        loss = self.compute_loss(x, y, y_pred, sample_weight)\n    File \"c:\\Users\\Aravind\\AppData\\Local\\Programs\\Python\\Python311\\Lib\\site-packages\\keras\\engine\\training.py\", line 1109, in compute_loss\n        return self.compiled_loss(\n    File \"c:\\Users\\Aravind\\AppData\\Local\\Programs\\Python\\Python311\\Lib\\site-packages\\keras\\engine\\compile_utils.py\", line 265, in __call__\n        loss_value = loss_obj(y_t, y_p, sample_weight=sw)\n    File \"c:\\Users\\Aravind\\AppData\\Local\\Programs\\Python\\Python311\\Lib\\site-packages\\keras\\losses.py\", line 142, in __call__\n        losses = call_fn(y_true, y_pred)\n    File \"c:\\Users\\Aravind\\AppData\\Local\\Programs\\Python\\Python311\\Lib\\site-packages\\keras\\losses.py\", line 268, in call  **\n        return ag_fn(y_true, y_pred, **self._fn_kwargs)\n    File \"c:\\Users\\Aravind\\AppData\\Local\\Programs\\Python\\Python311\\Lib\\site-packages\\keras\\losses.py\", line 1984, in categorical_crossentropy\n        return backend.categorical_crossentropy(\n    File \"c:\\Users\\Aravind\\AppData\\Local\\Programs\\Python\\Python311\\Lib\\site-packages\\keras\\backend.py\", line 5559, in categorical_crossentropy\n        target.shape.assert_is_compatible_with(output.shape)\n\n    ValueError: Shapes (None, 1) and (None, 3) are incompatible\n",
     "output_type": "error",
     "traceback": [
      "\u001b[1;31m---------------------------------------------------------------------------\u001b[0m",
      "\u001b[1;31mValueError\u001b[0m                                Traceback (most recent call last)",
      "Cell \u001b[1;32mIn[13], line 13\u001b[0m\n\u001b[0;32m      7\u001b[0m model\u001b[39m.\u001b[39madd(Dense(\u001b[39m3\u001b[39m, activation\u001b[39m=\u001b[39m\u001b[39m'\u001b[39m\u001b[39msoftmax\u001b[39m\u001b[39m'\u001b[39m))\n\u001b[0;32m      9\u001b[0m model\u001b[39m.\u001b[39mcompile(optimizer\u001b[39m=\u001b[39m\u001b[39m'\u001b[39m\u001b[39madam\u001b[39m\u001b[39m'\u001b[39m,\n\u001b[0;32m     10\u001b[0m               loss\u001b[39m=\u001b[39m\u001b[39m'\u001b[39m\u001b[39mcategorical_crossentropy\u001b[39m\u001b[39m'\u001b[39m,\n\u001b[0;32m     11\u001b[0m               metrics\u001b[39m=\u001b[39m[\u001b[39m'\u001b[39m\u001b[39maccuracy\u001b[39m\u001b[39m'\u001b[39m])\n\u001b[1;32m---> 13\u001b[0m model\u001b[39m.\u001b[39;49mfit(X_train_scaled, y_train, batch_size\u001b[39m=\u001b[39;49m\u001b[39m32\u001b[39;49m, epochs\u001b[39m=\u001b[39;49m\u001b[39m10\u001b[39;49m, validation_data\u001b[39m=\u001b[39;49m\u001b[39m0.25\u001b[39;49m)\n\u001b[0;32m     17\u001b[0m \u001b[39m#evaluate the model\u001b[39;00m\n\u001b[0;32m     18\u001b[0m results \u001b[39m=\u001b[39m model\u001b[39m.\u001b[39mevaluate(X_test, y_test)\n",
      "File \u001b[1;32mc:\\Users\\Aravind\\AppData\\Local\\Programs\\Python\\Python311\\Lib\\site-packages\\keras\\utils\\traceback_utils.py:70\u001b[0m, in \u001b[0;36mfilter_traceback.<locals>.error_handler\u001b[1;34m(*args, **kwargs)\u001b[0m\n\u001b[0;32m     67\u001b[0m     filtered_tb \u001b[39m=\u001b[39m _process_traceback_frames(e\u001b[39m.\u001b[39m__traceback__)\n\u001b[0;32m     68\u001b[0m     \u001b[39m# To get the full stack trace, call:\u001b[39;00m\n\u001b[0;32m     69\u001b[0m     \u001b[39m# `tf.debugging.disable_traceback_filtering()`\u001b[39;00m\n\u001b[1;32m---> 70\u001b[0m     \u001b[39mraise\u001b[39;00m e\u001b[39m.\u001b[39mwith_traceback(filtered_tb) \u001b[39mfrom\u001b[39;00m \u001b[39mNone\u001b[39;00m\n\u001b[0;32m     71\u001b[0m \u001b[39mfinally\u001b[39;00m:\n\u001b[0;32m     72\u001b[0m     \u001b[39mdel\u001b[39;00m filtered_tb\n",
      "File \u001b[1;32m~\\AppData\\Local\\Temp\\__autograph_generated_file22wbvayy.py:15\u001b[0m, in \u001b[0;36mouter_factory.<locals>.inner_factory.<locals>.tf__train_function\u001b[1;34m(iterator)\u001b[0m\n\u001b[0;32m     13\u001b[0m \u001b[39mtry\u001b[39;00m:\n\u001b[0;32m     14\u001b[0m     do_return \u001b[39m=\u001b[39m \u001b[39mTrue\u001b[39;00m\n\u001b[1;32m---> 15\u001b[0m     retval_ \u001b[39m=\u001b[39m ag__\u001b[39m.\u001b[39mconverted_call(ag__\u001b[39m.\u001b[39mld(step_function), (ag__\u001b[39m.\u001b[39mld(\u001b[39mself\u001b[39m), ag__\u001b[39m.\u001b[39mld(iterator)), \u001b[39mNone\u001b[39;00m, fscope)\n\u001b[0;32m     16\u001b[0m \u001b[39mexcept\u001b[39;00m:\n\u001b[0;32m     17\u001b[0m     do_return \u001b[39m=\u001b[39m \u001b[39mFalse\u001b[39;00m\n",
      "\u001b[1;31mValueError\u001b[0m: in user code:\n\n    File \"c:\\Users\\Aravind\\AppData\\Local\\Programs\\Python\\Python311\\Lib\\site-packages\\keras\\engine\\training.py\", line 1284, in train_function  *\n        return step_function(self, iterator)\n    File \"c:\\Users\\Aravind\\AppData\\Local\\Programs\\Python\\Python311\\Lib\\site-packages\\keras\\engine\\training.py\", line 1268, in step_function  **\n        outputs = model.distribute_strategy.run(run_step, args=(data,))\n    File \"c:\\Users\\Aravind\\AppData\\Local\\Programs\\Python\\Python311\\Lib\\site-packages\\keras\\engine\\training.py\", line 1249, in run_step  **\n        outputs = model.train_step(data)\n    File \"c:\\Users\\Aravind\\AppData\\Local\\Programs\\Python\\Python311\\Lib\\site-packages\\keras\\engine\\training.py\", line 1051, in train_step\n        loss = self.compute_loss(x, y, y_pred, sample_weight)\n    File \"c:\\Users\\Aravind\\AppData\\Local\\Programs\\Python\\Python311\\Lib\\site-packages\\keras\\engine\\training.py\", line 1109, in compute_loss\n        return self.compiled_loss(\n    File \"c:\\Users\\Aravind\\AppData\\Local\\Programs\\Python\\Python311\\Lib\\site-packages\\keras\\engine\\compile_utils.py\", line 265, in __call__\n        loss_value = loss_obj(y_t, y_p, sample_weight=sw)\n    File \"c:\\Users\\Aravind\\AppData\\Local\\Programs\\Python\\Python311\\Lib\\site-packages\\keras\\losses.py\", line 142, in __call__\n        losses = call_fn(y_true, y_pred)\n    File \"c:\\Users\\Aravind\\AppData\\Local\\Programs\\Python\\Python311\\Lib\\site-packages\\keras\\losses.py\", line 268, in call  **\n        return ag_fn(y_true, y_pred, **self._fn_kwargs)\n    File \"c:\\Users\\Aravind\\AppData\\Local\\Programs\\Python\\Python311\\Lib\\site-packages\\keras\\losses.py\", line 1984, in categorical_crossentropy\n        return backend.categorical_crossentropy(\n    File \"c:\\Users\\Aravind\\AppData\\Local\\Programs\\Python\\Python311\\Lib\\site-packages\\keras\\backend.py\", line 5559, in categorical_crossentropy\n        target.shape.assert_is_compatible_with(output.shape)\n\n    ValueError: Shapes (None, 1) and (None, 3) are incompatible\n"
     ]
    }
   ],
   "source": [
    "#use of different NN models to achieve this accuracy\n",
    "\n",
    "\n",
    "model = Sequential()\n",
    "model.add(Dense(64, activation='relu', input_dim=19))\n",
    "model.add(Dense(64, activation='relu'))\n",
    "model.add(Dense(3, activation='softmax'))\n",
    "\n",
    "model.compile(optimizer='adam',\n",
    "              loss='categorical_crossentropy',\n",
    "              metrics=['accuracy'])\n",
    "\n",
    "model.fit(X_train_scaled, y_train, batch_size=32, epochs=10, validation_data=0.25)\n",
    "\n",
    "\n",
    "\n",
    "#evaluate the model\n",
    "results = model.evaluate(X_test, y_test)\n",
    "\n",
    "print(\"Loss:\", results[0])\n",
    "print(\"Accuracy = \", results[1:])\n",
    "\n",
    "#predict the model\n",
    "y_pred = model.predict(X_test)\n",
    "y_pred = np.argmax(y_pred, axis=1)\n",
    "\n",
    "#confusion matrix\n",
    "cm = confusion_matrix(y_test, y_pred)\n",
    "print(cm)\n",
    "\n",
    "#classification report\n",
    "print(classification_report(y_test, y_pred))\n",
    "\n",
    "#print the accuracy score\n",
    "accuracy = accuracy_score(y_test, y_pred)\n",
    "print(\"Accuracy: %.2f%%\" % (accuracy * 100.0))\n",
    "\n"
   ]
  }
 ],
 "metadata": {
  "kernelspec": {
   "display_name": "Python 3",
   "language": "python",
   "name": "python3"
  },
  "language_info": {
   "codemirror_mode": {
    "name": "ipython",
    "version": 3
   },
   "file_extension": ".py",
   "mimetype": "text/x-python",
   "name": "python",
   "nbconvert_exporter": "python",
   "pygments_lexer": "ipython3",
   "version": "3.11.3"
  },
  "orig_nbformat": 4
 },
 "nbformat": 4,
 "nbformat_minor": 2
}
